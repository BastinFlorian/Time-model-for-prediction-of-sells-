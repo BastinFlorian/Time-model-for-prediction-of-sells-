{
 "cells": [
  {
   "cell_type": "markdown",
   "metadata": {
    "collapsed": true
   },
   "source": [
    "# Comparison of models to predict sells"
   ]
  },
  {
   "cell_type": "markdown",
   "metadata": {},
   "source": [
    "## Introduction "
   ]
  },
  {
   "cell_type": "markdown",
   "metadata": {},
   "source": [
    "\n",
    "We try some easy models to predict the sells of \"a famous milk company\". \n",
    "We study the impact of the MAPE metric with some plots.\n",
    "We'll also try to see the differences between a time model like ARIMA and usual models like XGB,RF or Gradient Boosting. \n",
    "Unfortunately, data are private and not acessible."
   ]
  },
  {
   "cell_type": "markdown",
   "metadata": {},
   "source": [
    "The data is made of informations about :\n",
    "- the supermarket seller : Enseigne\n",
    "- the date of the observations : Week, Year, Date\n",
    "- the type of product sold : MK1 \n",
    "- the type of discount : Meca and Pack\n",
    "- the amount of discount : Plage\n",
    "- the number of days the discount is in the supermarket : Days_uplifts"
   ]
  },
  {
   "cell_type": "code",
   "execution_count": 251,
   "metadata": {
    "collapsed": true
   },
   "outputs": [],
   "source": [
    "import pandas as pd\n",
    "import numpy as np\n",
    "from sklearn.metrics import mean_squared_error\n",
    "from sklearn.preprocessing import MinMaxScaler\n",
    "from sklearn.preprocessing import LabelEncoder\n",
    "from math import sqrt\n",
    "import matplotlib\n",
    "from sklearn.ensemble import RandomForestRegressor\n",
    "from statsmodels.tsa.arima_model import ARIMA\n",
    "from matplotlib import pyplot"
   ]
  },
  {
   "cell_type": "code",
   "execution_count": null,
   "metadata": {},
   "outputs": [],
   "source": [
    "df=pd.read_excel('/Users/newuser/Downloads/Waters.xlsx')\n",
    "df=df.sort_values(by='Date')"
   ]
  },
  {
   "cell_type": "code",
   "execution_count": 79,
   "metadata": {},
   "outputs": [
    {
     "name": "stdout",
     "output_type": "stream",
     "text": [
      "<class 'pandas.core.frame.DataFrame'>\n",
      "Int64Index: 8685 entries, 0 to 4722\n",
      "Data columns (total 12 columns):\n",
      "Client 4        8685 non-null object\n",
      "Enseigne        8685 non-null object\n",
      "Date            8685 non-null float64\n",
      "Week            8685 non-null int64\n",
      "Year            8685 non-null int64\n",
      "MG1             8685 non-null object\n",
      "Sell_Out        8685 non-null float64\n",
      "Theme           2963 non-null object\n",
      "Mecanisme       2963 non-null object\n",
      "Pack            2963 non-null object\n",
      "Days_Uplifts    2963 non-null float64\n",
      "Plage           2963 non-null float64\n",
      "dtypes: float64(4), int64(2), object(6)\n",
      "memory usage: 882.1+ KB\n"
     ]
    }
   ],
   "source": [
    "df.info()"
   ]
  },
  {
   "cell_type": "code",
   "execution_count": 80,
   "metadata": {},
   "outputs": [
    {
     "data": {
      "text/plain": [
       "(8685, 9)"
      ]
     },
     "execution_count": 80,
     "metadata": {},
     "output_type": "execute_result"
    }
   ],
   "source": [
    "df2=df.drop(['Theme','Client 4','Date'],axis=1)\n",
    "df2.shape"
   ]
  },
  {
   "cell_type": "code",
   "execution_count": 81,
   "metadata": {
    "collapsed": true
   },
   "outputs": [],
   "source": [
    "new_df=pd.get_dummies(df2['Enseigne'],prefix='Ens')\n",
    "new_df2=pd.get_dummies(df2['MG1'],prefix='MG1')\n",
    "new_df3=pd.get_dummies(df2['Mecanisme'],prefix='Meca',dummy_na=True)\n",
    "new_df4=pd.get_dummies(df2['Pack'],prefix='Pack',dummy_na=True)\n"
   ]
  },
  {
   "cell_type": "code",
   "execution_count": 82,
   "metadata": {},
   "outputs": [
    {
     "data": {
      "text/plain": [
       "(8685, 33)"
      ]
     },
     "execution_count": 82,
     "metadata": {},
     "output_type": "execute_result"
    }
   ],
   "source": [
    "int_df1 = pd.concat([new_df,new_df2],axis=1)\n",
    "int_df2 = pd.concat([new_df3,new_df4],axis=1)\n",
    "int_df = pd.concat([int_df1,int_df2],axis=1)\n",
    "new_df=pd.concat([int_df,df2],axis=1)\n",
    "new_df.shape"
   ]
  },
  {
   "cell_type": "code",
   "execution_count": 83,
   "metadata": {},
   "outputs": [
    {
     "data": {
      "text/plain": [
       "(8685, 29)"
      ]
     },
     "execution_count": 83,
     "metadata": {},
     "output_type": "execute_result"
    }
   ],
   "source": [
    "new_df=new_df.drop(['Enseigne','MG1','Mecanisme','Pack'],axis=1)\n",
    "new_df=new_df.fillna(0)\n",
    "new_df.shape"
   ]
  },
  {
   "cell_type": "code",
   "execution_count": 86,
   "metadata": {},
   "outputs": [
    {
     "name": "stdout",
     "output_type": "stream",
     "text": [
      "<class 'pandas.core.frame.DataFrame'>\n",
      "Int64Index: 8685 entries, 0 to 4722\n",
      "Data columns (total 29 columns):\n",
      "Ens_Auchan                  8685 non-null uint8\n",
      "Ens_Carrefour               8685 non-null uint8\n",
      "Ens_Carrefour Market        8685 non-null uint8\n",
      "Ens_Casino SM               8685 non-null uint8\n",
      "Ens_Cora                    8685 non-null uint8\n",
      "Ens_Geant                   8685 non-null uint8\n",
      "Ens_Monoprix                8685 non-null uint8\n",
      "Ens_SM Match  Prospectus    8685 non-null uint8\n",
      "Ens_Systeme U               8685 non-null uint8\n",
      "MG1_F0W                     8685 non-null uint8\n",
      "MG1_F56                     8685 non-null uint8\n",
      "MG1_F8M                     8685 non-null uint8\n",
      "MG1_FHG                     8685 non-null uint8\n",
      "MG1_VR3                     8685 non-null uint8\n",
      "Meca_Cagnottage             8685 non-null uint8\n",
      "Meca_Lots Virtuels          8685 non-null uint8\n",
      "Meca_Multiple               8685 non-null uint8\n",
      "Meca_RI                     8685 non-null uint8\n",
      "Meca_nan                    8685 non-null uint8\n",
      "Pack_1 pack                 8685 non-null uint8\n",
      "Pack_2 packs                8685 non-null uint8\n",
      "Pack_3 packs                8685 non-null uint8\n",
      "Pack_autre                  8685 non-null uint8\n",
      "Pack_nan                    8685 non-null uint8\n",
      "Week                        8685 non-null int64\n",
      "Year                        8685 non-null int64\n",
      "Sell_Out                    8685 non-null float64\n",
      "Days_Uplifts                8685 non-null float64\n",
      "Plage                       8685 non-null float64\n",
      "dtypes: float64(3), int64(2), uint8(24)\n",
      "memory usage: 610.7 KB\n"
     ]
    }
   ],
   "source": [
    "new_df.info()"
   ]
  },
  {
   "cell_type": "code",
   "execution_count": 252,
   "metadata": {},
   "outputs": [
    {
     "data": {
      "text/html": [
       "<div>\n",
       "<style>\n",
       "    .dataframe thead tr:only-child th {\n",
       "        text-align: right;\n",
       "    }\n",
       "\n",
       "    .dataframe thead th {\n",
       "        text-align: left;\n",
       "    }\n",
       "\n",
       "    .dataframe tbody tr th {\n",
       "        vertical-align: top;\n",
       "    }\n",
       "</style>\n",
       "<table border=\"1\" class=\"dataframe\">\n",
       "  <thead>\n",
       "    <tr style=\"text-align: right;\">\n",
       "      <th></th>\n",
       "      <th>Ens_Auchan</th>\n",
       "      <th>Ens_Carrefour</th>\n",
       "      <th>Ens_Carrefour Market</th>\n",
       "      <th>Ens_Casino SM</th>\n",
       "      <th>Ens_Cora</th>\n",
       "      <th>Ens_Geant</th>\n",
       "      <th>Ens_Monoprix</th>\n",
       "      <th>Ens_SM Match  Prospectus</th>\n",
       "      <th>Ens_Systeme U</th>\n",
       "      <th>MG1_F0W</th>\n",
       "      <th>...</th>\n",
       "      <th>Meca_nan</th>\n",
       "      <th>Pack_1 pack</th>\n",
       "      <th>Pack_2 packs</th>\n",
       "      <th>Pack_3 packs</th>\n",
       "      <th>Pack_autre</th>\n",
       "      <th>Pack_nan</th>\n",
       "      <th>Week</th>\n",
       "      <th>Year</th>\n",
       "      <th>Days_Uplifts</th>\n",
       "      <th>Plage</th>\n",
       "    </tr>\n",
       "  </thead>\n",
       "  <tbody>\n",
       "    <tr>\n",
       "      <th>0</th>\n",
       "      <td>0</td>\n",
       "      <td>1</td>\n",
       "      <td>0</td>\n",
       "      <td>0</td>\n",
       "      <td>0</td>\n",
       "      <td>0</td>\n",
       "      <td>0</td>\n",
       "      <td>0</td>\n",
       "      <td>0</td>\n",
       "      <td>0</td>\n",
       "      <td>...</td>\n",
       "      <td>1</td>\n",
       "      <td>0</td>\n",
       "      <td>0</td>\n",
       "      <td>0</td>\n",
       "      <td>0</td>\n",
       "      <td>1</td>\n",
       "      <td>1</td>\n",
       "      <td>2014</td>\n",
       "      <td>0.0</td>\n",
       "      <td>0.0</td>\n",
       "    </tr>\n",
       "    <tr>\n",
       "      <th>25</th>\n",
       "      <td>1</td>\n",
       "      <td>0</td>\n",
       "      <td>0</td>\n",
       "      <td>0</td>\n",
       "      <td>0</td>\n",
       "      <td>0</td>\n",
       "      <td>0</td>\n",
       "      <td>0</td>\n",
       "      <td>0</td>\n",
       "      <td>0</td>\n",
       "      <td>...</td>\n",
       "      <td>1</td>\n",
       "      <td>0</td>\n",
       "      <td>0</td>\n",
       "      <td>0</td>\n",
       "      <td>0</td>\n",
       "      <td>1</td>\n",
       "      <td>1</td>\n",
       "      <td>2014</td>\n",
       "      <td>0.0</td>\n",
       "      <td>0.0</td>\n",
       "    </tr>\n",
       "    <tr>\n",
       "      <th>26</th>\n",
       "      <td>1</td>\n",
       "      <td>0</td>\n",
       "      <td>0</td>\n",
       "      <td>0</td>\n",
       "      <td>0</td>\n",
       "      <td>0</td>\n",
       "      <td>0</td>\n",
       "      <td>0</td>\n",
       "      <td>0</td>\n",
       "      <td>0</td>\n",
       "      <td>...</td>\n",
       "      <td>0</td>\n",
       "      <td>0</td>\n",
       "      <td>1</td>\n",
       "      <td>0</td>\n",
       "      <td>0</td>\n",
       "      <td>0</td>\n",
       "      <td>1</td>\n",
       "      <td>2014</td>\n",
       "      <td>2.0</td>\n",
       "      <td>0.3</td>\n",
       "    </tr>\n",
       "    <tr>\n",
       "      <th>27</th>\n",
       "      <td>1</td>\n",
       "      <td>0</td>\n",
       "      <td>0</td>\n",
       "      <td>0</td>\n",
       "      <td>0</td>\n",
       "      <td>0</td>\n",
       "      <td>0</td>\n",
       "      <td>0</td>\n",
       "      <td>0</td>\n",
       "      <td>0</td>\n",
       "      <td>...</td>\n",
       "      <td>1</td>\n",
       "      <td>0</td>\n",
       "      <td>0</td>\n",
       "      <td>0</td>\n",
       "      <td>0</td>\n",
       "      <td>1</td>\n",
       "      <td>1</td>\n",
       "      <td>2014</td>\n",
       "      <td>0.0</td>\n",
       "      <td>0.0</td>\n",
       "    </tr>\n",
       "    <tr>\n",
       "      <th>28</th>\n",
       "      <td>1</td>\n",
       "      <td>0</td>\n",
       "      <td>0</td>\n",
       "      <td>0</td>\n",
       "      <td>0</td>\n",
       "      <td>0</td>\n",
       "      <td>0</td>\n",
       "      <td>0</td>\n",
       "      <td>0</td>\n",
       "      <td>0</td>\n",
       "      <td>...</td>\n",
       "      <td>1</td>\n",
       "      <td>0</td>\n",
       "      <td>0</td>\n",
       "      <td>0</td>\n",
       "      <td>0</td>\n",
       "      <td>1</td>\n",
       "      <td>1</td>\n",
       "      <td>2014</td>\n",
       "      <td>0.0</td>\n",
       "      <td>0.0</td>\n",
       "    </tr>\n",
       "  </tbody>\n",
       "</table>\n",
       "<p>5 rows × 28 columns</p>\n",
       "</div>"
      ],
      "text/plain": [
       "    Ens_Auchan  Ens_Carrefour  Ens_Carrefour Market  Ens_Casino SM  Ens_Cora  \\\n",
       "0            0              1                     0              0         0   \n",
       "25           1              0                     0              0         0   \n",
       "26           1              0                     0              0         0   \n",
       "27           1              0                     0              0         0   \n",
       "28           1              0                     0              0         0   \n",
       "\n",
       "    Ens_Geant  Ens_Monoprix  Ens_SM Match  Prospectus  Ens_Systeme U  MG1_F0W  \\\n",
       "0           0             0                         0              0        0   \n",
       "25          0             0                         0              0        0   \n",
       "26          0             0                         0              0        0   \n",
       "27          0             0                         0              0        0   \n",
       "28          0             0                         0              0        0   \n",
       "\n",
       "    ...    Meca_nan  Pack_1 pack  Pack_2 packs  Pack_3 packs  Pack_autre  \\\n",
       "0   ...           1            0             0             0           0   \n",
       "25  ...           1            0             0             0           0   \n",
       "26  ...           0            0             1             0           0   \n",
       "27  ...           1            0             0             0           0   \n",
       "28  ...           1            0             0             0           0   \n",
       "\n",
       "    Pack_nan  Week  Year  Days_Uplifts  Plage  \n",
       "0          1     1  2014           0.0    0.0  \n",
       "25         1     1  2014           0.0    0.0  \n",
       "26         0     1  2014           2.0    0.3  \n",
       "27         1     1  2014           0.0    0.0  \n",
       "28         1     1  2014           0.0    0.0  \n",
       "\n",
       "[5 rows x 28 columns]"
      ]
     },
     "execution_count": 252,
     "metadata": {},
     "output_type": "execute_result"
    }
   ],
   "source": [
    "new_df_train=new_df[new_df['Year']<2017]\n",
    "new_df_test=new_df[new_df['Year']>=2017]\n",
    "Y_train=new_df_train['Sell_Out']\n",
    "Y_test=new_df_test['Sell_Out']\n",
    "new_df_train=new_df_train.drop('Sell_Out',axis=1)\n",
    "new_df_test=new_df_test.drop('Sell_Out',axis=1)\n",
    "new_df_train.head()"
   ]
  },
  {
   "cell_type": "markdown",
   "metadata": {},
   "source": [
    "Lets predict the 2017 sells, training the model with the 2014-2016 sells"
   ]
  },
  {
   "cell_type": "code",
   "execution_count": 113,
   "metadata": {},
   "outputs": [],
   "source": [
    "rfg=RandomForestRegressor(n_estimators=10, criterion='mae')\n",
    "rfg_fitted=rfg.fit(new_df_train,Y_train)"
   ]
  },
  {
   "cell_type": "code",
   "execution_count": 203,
   "metadata": {},
   "outputs": [],
   "source": [
    "from sklearn import metrics\n",
    "def rmse(predictions,true_y):\n",
    "    return(np.sqrt(((predictions - true_y) ** 2).mean()))\n",
    "\n",
    "def mean_absolute_percentage_error(y_true, y_pred): \n",
    "    y_true, y_pred = np.array(y_true), np.array(y_pred)\n",
    "    return np.mean(np.abs((y_true - y_pred) / y_true)) * 100"
   ]
  },
  {
   "cell_type": "code",
   "execution_count": 223,
   "metadata": {},
   "outputs": [
    {
     "name": "stdout",
     "output_type": "stream",
     "text": [
      "---------On test set---------\n",
      "RMSE = 117715.01359624295\n",
      "MAPE = 29.359843983470395\n",
      "MAE= 48655.84711934154\n",
      "MSE= 13856824425.963669\n",
      "R2= 0.7823548242718925\n"
     ]
    },
    {
     "data": {
      "image/png": "[encoded data removed]",
      "text/plain": [
       "<matplotlib.figure.Figure at 0x120333518>"
      ]
     },
     "metadata": {},
     "output_type": "display_data"
    }
   ],
   "source": [
    "y_pred=rfg_fitted.predict(new_df_test)\n",
    "print('---------On test set---------')\n",
    "\n",
    "print('RMSE = {}'.format(rmse(y_pred,Y_test)))\n",
    "print('MAPE = {}'.format(mean_absolute_percentage_error(Y_test, y_pred)))\n",
    "print('MAE= {}'.format(metrics.mean_absolute_error(Y_test, y_pred)))\n",
    "print('MSE= {}'.format(metrics.mean_squared_error(Y_test, y_pred)))\n",
    "print('R2= {}'.format(metrics.r2_score(Y_test, y_pred)))\n",
    "\n",
    "pyplot.plot(np.array(Y_test))\n",
    "pyplot.plot(y_pred, color='red')\n",
    "pyplot.title('Estimation on TEST set for random forest model')\n",
    "pyplot.show()"
   ]
  },
  {
   "cell_type": "code",
   "execution_count": 227,
   "metadata": {},
   "outputs": [
    {
     "name": "stdout",
     "output_type": "stream",
     "text": [
      "---------On train set---------\n",
      "RMSE = 55675.878106542994\n",
      "MAPE = 10.69092968396426\n",
      "MAE= 18764.766890776125\n",
      "MSE= 3099803402.9346495\n",
      "R2= 0.9419021031428401\n"
     ]
    },
    {
     "data": {
      "image/png": "[encoded data removed]",
      "text/plain": [
       "<matplotlib.figure.Figure at 0x120a6c978>"
      ]
     },
     "metadata": {},
     "output_type": "display_data"
    }
   ],
   "source": [
    "y_pred=rfg_fitted.predict(new_df_train)\n",
    "print('---------On train set---------')\n",
    "print('RMSE = {}'.format(rmse(y_pred,Y_train)))\n",
    "print('MAPE = {}'.format(mean_absolute_percentage_error(Y_train, y_pred)))\n",
    "print('MAE= {}'.format(metrics.mean_absolute_error(Y_train, y_pred)))\n",
    "print('MSE= {}'.format(metrics.mean_squared_error(Y_train, y_pred)))\n",
    "print('R2= {}'.format(metrics.r2_score(Y_train, y_pred)))\n",
    "\n",
    "pyplot.plot(np.array(Y_train))\n",
    "pyplot.plot(y_pred, color='red')\n",
    "pyplot.title('Estimation on TRAIN set for random forest model')\n",
    "pyplot.show()"
   ]
  },
  {
   "cell_type": "code",
   "execution_count": 228,
   "metadata": {},
   "outputs": [
    {
     "data": {
      "text/html": [
       "<div>\n",
       "<style>\n",
       "    .dataframe thead tr:only-child th {\n",
       "        text-align: right;\n",
       "    }\n",
       "\n",
       "    .dataframe thead th {\n",
       "        text-align: left;\n",
       "    }\n",
       "\n",
       "    .dataframe tbody tr th {\n",
       "        vertical-align: top;\n",
       "    }\n",
       "</style>\n",
       "<table border=\"1\" class=\"dataframe\">\n",
       "  <thead>\n",
       "    <tr style=\"text-align: right;\">\n",
       "      <th></th>\n",
       "      <th>name_variable</th>\n",
       "      <th>score (the higher the better)</th>\n",
       "    </tr>\n",
       "  </thead>\n",
       "  <tbody>\n",
       "    <tr>\n",
       "      <th>22</th>\n",
       "      <td>Pack_autre</td>\n",
       "      <td>0.000421</td>\n",
       "    </tr>\n",
       "    <tr>\n",
       "      <th>18</th>\n",
       "      <td>Meca_nan</td>\n",
       "      <td>0.000498</td>\n",
       "    </tr>\n",
       "    <tr>\n",
       "      <th>21</th>\n",
       "      <td>Pack_3 packs</td>\n",
       "      <td>0.000845</td>\n",
       "    </tr>\n",
       "    <tr>\n",
       "      <th>16</th>\n",
       "      <td>Meca_Multiple</td>\n",
       "      <td>0.000880</td>\n",
       "    </tr>\n",
       "    <tr>\n",
       "      <th>23</th>\n",
       "      <td>Pack_nan</td>\n",
       "      <td>0.001962</td>\n",
       "    </tr>\n",
       "    <tr>\n",
       "      <th>3</th>\n",
       "      <td>Ens_Casino SM</td>\n",
       "      <td>0.003299</td>\n",
       "    </tr>\n",
       "    <tr>\n",
       "      <th>17</th>\n",
       "      <td>Meca_RI</td>\n",
       "      <td>0.003655</td>\n",
       "    </tr>\n",
       "    <tr>\n",
       "      <th>6</th>\n",
       "      <td>Ens_Monoprix</td>\n",
       "      <td>0.004662</td>\n",
       "    </tr>\n",
       "    <tr>\n",
       "      <th>14</th>\n",
       "      <td>Meca_Cagnottage</td>\n",
       "      <td>0.005685</td>\n",
       "    </tr>\n",
       "    <tr>\n",
       "      <th>4</th>\n",
       "      <td>Ens_Cora</td>\n",
       "      <td>0.005758</td>\n",
       "    </tr>\n",
       "    <tr>\n",
       "      <th>5</th>\n",
       "      <td>Ens_Geant</td>\n",
       "      <td>0.006452</td>\n",
       "    </tr>\n",
       "    <tr>\n",
       "      <th>19</th>\n",
       "      <td>Pack_1 pack</td>\n",
       "      <td>0.006952</td>\n",
       "    </tr>\n",
       "    <tr>\n",
       "      <th>7</th>\n",
       "      <td>Ens_SM Match  Prospectus</td>\n",
       "      <td>0.007977</td>\n",
       "    </tr>\n",
       "    <tr>\n",
       "      <th>20</th>\n",
       "      <td>Pack_2 packs</td>\n",
       "      <td>0.009343</td>\n",
       "    </tr>\n",
       "    <tr>\n",
       "      <th>11</th>\n",
       "      <td>MG1_F8M</td>\n",
       "      <td>0.009872</td>\n",
       "    </tr>\n",
       "    <tr>\n",
       "      <th>15</th>\n",
       "      <td>Meca_Lots Virtuels</td>\n",
       "      <td>0.010281</td>\n",
       "    </tr>\n",
       "    <tr>\n",
       "      <th>12</th>\n",
       "      <td>MG1_FHG</td>\n",
       "      <td>0.010383</td>\n",
       "    </tr>\n",
       "    <tr>\n",
       "      <th>13</th>\n",
       "      <td>MG1_VR3</td>\n",
       "      <td>0.031505</td>\n",
       "    </tr>\n",
       "    <tr>\n",
       "      <th>9</th>\n",
       "      <td>MG1_F0W</td>\n",
       "      <td>0.038634</td>\n",
       "    </tr>\n",
       "    <tr>\n",
       "      <th>25</th>\n",
       "      <td>Year</td>\n",
       "      <td>0.051825</td>\n",
       "    </tr>\n",
       "    <tr>\n",
       "      <th>0</th>\n",
       "      <td>Ens_Auchan</td>\n",
       "      <td>0.053582</td>\n",
       "    </tr>\n",
       "    <tr>\n",
       "      <th>27</th>\n",
       "      <td>Plage</td>\n",
       "      <td>0.065409</td>\n",
       "    </tr>\n",
       "    <tr>\n",
       "      <th>10</th>\n",
       "      <td>MG1_F56</td>\n",
       "      <td>0.078530</td>\n",
       "    </tr>\n",
       "    <tr>\n",
       "      <th>26</th>\n",
       "      <td>Days_Uplifts</td>\n",
       "      <td>0.094376</td>\n",
       "    </tr>\n",
       "    <tr>\n",
       "      <th>1</th>\n",
       "      <td>Ens_Carrefour</td>\n",
       "      <td>0.095331</td>\n",
       "    </tr>\n",
       "    <tr>\n",
       "      <th>2</th>\n",
       "      <td>Ens_Carrefour Market</td>\n",
       "      <td>0.099178</td>\n",
       "    </tr>\n",
       "    <tr>\n",
       "      <th>8</th>\n",
       "      <td>Ens_Systeme U</td>\n",
       "      <td>0.102625</td>\n",
       "    </tr>\n",
       "    <tr>\n",
       "      <th>24</th>\n",
       "      <td>Week</td>\n",
       "      <td>0.200082</td>\n",
       "    </tr>\n",
       "  </tbody>\n",
       "</table>\n",
       "</div>"
      ],
      "text/plain": [
       "               name_variable  score (the higher the better)\n",
       "22                Pack_autre                       0.000421\n",
       "18                  Meca_nan                       0.000498\n",
       "21              Pack_3 packs                       0.000845\n",
       "16             Meca_Multiple                       0.000880\n",
       "23                  Pack_nan                       0.001962\n",
       "3              Ens_Casino SM                       0.003299\n",
       "17                   Meca_RI                       0.003655\n",
       "6               Ens_Monoprix                       0.004662\n",
       "14           Meca_Cagnottage                       0.005685\n",
       "4                   Ens_Cora                       0.005758\n",
       "5                  Ens_Geant                       0.006452\n",
       "19               Pack_1 pack                       0.006952\n",
       "7   Ens_SM Match  Prospectus                       0.007977\n",
       "20              Pack_2 packs                       0.009343\n",
       "11                   MG1_F8M                       0.009872\n",
       "15        Meca_Lots Virtuels                       0.010281\n",
       "12                   MG1_FHG                       0.010383\n",
       "13                   MG1_VR3                       0.031505\n",
       "9                    MG1_F0W                       0.038634\n",
       "25                      Year                       0.051825\n",
       "0                 Ens_Auchan                       0.053582\n",
       "27                     Plage                       0.065409\n",
       "10                   MG1_F56                       0.078530\n",
       "26              Days_Uplifts                       0.094376\n",
       "1              Ens_Carrefour                       0.095331\n",
       "2       Ens_Carrefour Market                       0.099178\n",
       "8              Ens_Systeme U                       0.102625\n",
       "24                      Week                       0.200082"
      ]
     },
     "execution_count": 228,
     "metadata": {},
     "output_type": "execute_result"
    }
   ],
   "source": [
    "df_var_importance=pd.DataFrame({'name_variable':new_df.drop('Sell_Out',axis=1).columns,'score (the higher the better)':rfg_fitted.feature_importances_})\n",
    "df_var_importance.sort_values(by=['score (the higher the better)'])"
   ]
  },
  {
   "cell_type": "code",
   "execution_count": 229,
   "metadata": {
    "collapsed": true
   },
   "outputs": [],
   "source": [
    "from sklearn.ensemble import GradientBoostingRegressor"
   ]
  },
  {
   "cell_type": "code",
   "execution_count": 230,
   "metadata": {},
   "outputs": [],
   "source": [
    "GBR=GradientBoostingRegressor(loss='lad',n_estimators=100)\n",
    "GBR_fitted=GBR.fit(new_df_train,Y_train)"
   ]
  },
  {
   "cell_type": "code",
   "execution_count": 231,
   "metadata": {},
   "outputs": [
    {
     "name": "stdout",
     "output_type": "stream",
     "text": [
      "---------On test set---------\n",
      "RMSE = 184782.19279949236\n",
      "MAPE = 25.801748613786714\n",
      "MAE= 69564.85315992413\n",
      "MSE= 34144458775.788765\n",
      "R2= 0.4637027574316793\n"
     ]
    },
    {
     "data": {
      "image/png": "[encoded data removed]",
      "text/plain": [
       "<matplotlib.figure.Figure at 0x11ff3e550>"
      ]
     },
     "metadata": {},
     "output_type": "display_data"
    }
   ],
   "source": [
    "y_pred=GBR_fitted.predict(new_df_test)\n",
    "print('---------On test set---------')\n",
    "print('RMSE = {}'.format(rmse(y_pred,Y_test)))\n",
    "print('MAPE = {}'.format(mean_absolute_percentage_error(Y_test, y_pred)))\n",
    "print('MAE= {}'.format(metrics.mean_absolute_error(Y_test, y_pred)))\n",
    "print('MSE= {}'.format(metrics.mean_squared_error(Y_test, y_pred)))\n",
    "print('R2= {}'.format(metrics.r2_score(Y_test, y_pred)))\n",
    "\n",
    "pyplot.plot(np.array(Y_test))\n",
    "pyplot.plot(y_pred, color='red')\n",
    "pyplot.title('Estimation on TEST set for random Gradient Boosting model')\n",
    "pyplot.show()"
   ]
  },
  {
   "cell_type": "code",
   "execution_count": 233,
   "metadata": {},
   "outputs": [
    {
     "name": "stdout",
     "output_type": "stream",
     "text": [
      "---------On train set---------\n",
      "RMSE = 164158.42144998253\n",
      "MAPE = 25.504648957719873\n",
      "MAE= 58840.74890576142\n",
      "MSE= 26947987332.950123\n",
      "R2= 0.49492881158347624\n"
     ]
    },
    {
     "data": {
      "image/png": "[encoded data removed]",
      "text/plain": [
       "<matplotlib.figure.Figure at 0x12198a080>"
      ]
     },
     "metadata": {},
     "output_type": "display_data"
    }
   ],
   "source": [
    "y_pred=GBR_fitted.predict(new_df_train)\n",
    "print('---------On train set---------')\n",
    "print('RMSE = {}'.format(rmse(y_pred,Y_train)))\n",
    "print('MAPE = {}'.format(mean_absolute_percentage_error(Y_train, y_pred)))\n",
    "print('MAE= {}'.format(metrics.mean_absolute_error(Y_train, y_pred)))\n",
    "print('MSE= {}'.format(metrics.mean_squared_error(Y_train, y_pred)))\n",
    "print('R2= {}'.format(metrics.r2_score(Y_train, y_pred)))\n",
    "\n",
    "pyplot.plot(np.array(Y_train))\n",
    "pyplot.plot(y_pred, color='red')\n",
    "pyplot.title('Estimation on TRAIN set for random Gradient Boosting model')\n",
    "pyplot.show()"
   ]
  },
  {
   "cell_type": "code",
   "execution_count": 250,
   "metadata": {},
   "outputs": [
    {
     "data": {
      "text/html": [
       "<div>\n",
       "<style>\n",
       "    .dataframe thead tr:only-child th {\n",
       "        text-align: right;\n",
       "    }\n",
       "\n",
       "    .dataframe thead th {\n",
       "        text-align: left;\n",
       "    }\n",
       "\n",
       "    .dataframe tbody tr th {\n",
       "        vertical-align: top;\n",
       "    }\n",
       "</style>\n",
       "<table border=\"1\" class=\"dataframe\">\n",
       "  <thead>\n",
       "    <tr style=\"text-align: right;\">\n",
       "      <th></th>\n",
       "      <th>name_variable</th>\n",
       "      <th>score (the higher the better)</th>\n",
       "    </tr>\n",
       "  </thead>\n",
       "  <tbody>\n",
       "    <tr>\n",
       "      <th>18</th>\n",
       "      <td>Meca_nan</td>\n",
       "      <td>0.000000</td>\n",
       "    </tr>\n",
       "    <tr>\n",
       "      <th>23</th>\n",
       "      <td>Pack_nan</td>\n",
       "      <td>0.000000</td>\n",
       "    </tr>\n",
       "    <tr>\n",
       "      <th>16</th>\n",
       "      <td>Meca_Multiple</td>\n",
       "      <td>0.000000</td>\n",
       "    </tr>\n",
       "    <tr>\n",
       "      <th>22</th>\n",
       "      <td>Pack_autre</td>\n",
       "      <td>0.000000</td>\n",
       "    </tr>\n",
       "    <tr>\n",
       "      <th>15</th>\n",
       "      <td>Meca_Lots Virtuels</td>\n",
       "      <td>0.000773</td>\n",
       "    </tr>\n",
       "    <tr>\n",
       "      <th>17</th>\n",
       "      <td>Meca_RI</td>\n",
       "      <td>0.000996</td>\n",
       "    </tr>\n",
       "    <tr>\n",
       "      <th>19</th>\n",
       "      <td>Pack_1 pack</td>\n",
       "      <td>0.001092</td>\n",
       "    </tr>\n",
       "    <tr>\n",
       "      <th>20</th>\n",
       "      <td>Pack_2 packs</td>\n",
       "      <td>0.001225</td>\n",
       "    </tr>\n",
       "    <tr>\n",
       "      <th>14</th>\n",
       "      <td>Meca_Cagnottage</td>\n",
       "      <td>0.008084</td>\n",
       "    </tr>\n",
       "    <tr>\n",
       "      <th>21</th>\n",
       "      <td>Pack_3 packs</td>\n",
       "      <td>0.013261</td>\n",
       "    </tr>\n",
       "    <tr>\n",
       "      <th>25</th>\n",
       "      <td>Year</td>\n",
       "      <td>0.016144</td>\n",
       "    </tr>\n",
       "    <tr>\n",
       "      <th>12</th>\n",
       "      <td>MG1_FHG</td>\n",
       "      <td>0.022564</td>\n",
       "    </tr>\n",
       "    <tr>\n",
       "      <th>5</th>\n",
       "      <td>Ens_Geant</td>\n",
       "      <td>0.025154</td>\n",
       "    </tr>\n",
       "    <tr>\n",
       "      <th>11</th>\n",
       "      <td>MG1_F8M</td>\n",
       "      <td>0.032205</td>\n",
       "    </tr>\n",
       "    <tr>\n",
       "      <th>4</th>\n",
       "      <td>Ens_Cora</td>\n",
       "      <td>0.032760</td>\n",
       "    </tr>\n",
       "    <tr>\n",
       "      <th>9</th>\n",
       "      <td>MG1_F0W</td>\n",
       "      <td>0.034634</td>\n",
       "    </tr>\n",
       "    <tr>\n",
       "      <th>3</th>\n",
       "      <td>Ens_Casino SM</td>\n",
       "      <td>0.035061</td>\n",
       "    </tr>\n",
       "    <tr>\n",
       "      <th>6</th>\n",
       "      <td>Ens_Monoprix</td>\n",
       "      <td>0.037497</td>\n",
       "    </tr>\n",
       "    <tr>\n",
       "      <th>27</th>\n",
       "      <td>Plage</td>\n",
       "      <td>0.042741</td>\n",
       "    </tr>\n",
       "    <tr>\n",
       "      <th>7</th>\n",
       "      <td>Ens_SM Match  Prospectus</td>\n",
       "      <td>0.055997</td>\n",
       "    </tr>\n",
       "    <tr>\n",
       "      <th>26</th>\n",
       "      <td>Days_Uplifts</td>\n",
       "      <td>0.058884</td>\n",
       "    </tr>\n",
       "    <tr>\n",
       "      <th>0</th>\n",
       "      <td>Ens_Auchan</td>\n",
       "      <td>0.064034</td>\n",
       "    </tr>\n",
       "    <tr>\n",
       "      <th>1</th>\n",
       "      <td>Ens_Carrefour</td>\n",
       "      <td>0.064095</td>\n",
       "    </tr>\n",
       "    <tr>\n",
       "      <th>2</th>\n",
       "      <td>Ens_Carrefour Market</td>\n",
       "      <td>0.073667</td>\n",
       "    </tr>\n",
       "    <tr>\n",
       "      <th>10</th>\n",
       "      <td>MG1_F56</td>\n",
       "      <td>0.077440</td>\n",
       "    </tr>\n",
       "    <tr>\n",
       "      <th>8</th>\n",
       "      <td>Ens_Systeme U</td>\n",
       "      <td>0.084406</td>\n",
       "    </tr>\n",
       "    <tr>\n",
       "      <th>13</th>\n",
       "      <td>MG1_VR3</td>\n",
       "      <td>0.090987</td>\n",
       "    </tr>\n",
       "    <tr>\n",
       "      <th>24</th>\n",
       "      <td>Week</td>\n",
       "      <td>0.126300</td>\n",
       "    </tr>\n",
       "  </tbody>\n",
       "</table>\n",
       "</div>"
      ],
      "text/plain": [
       "               name_variable  score (the higher the better)\n",
       "18                  Meca_nan                       0.000000\n",
       "23                  Pack_nan                       0.000000\n",
       "16             Meca_Multiple                       0.000000\n",
       "22                Pack_autre                       0.000000\n",
       "15        Meca_Lots Virtuels                       0.000773\n",
       "17                   Meca_RI                       0.000996\n",
       "19               Pack_1 pack                       0.001092\n",
       "20              Pack_2 packs                       0.001225\n",
       "14           Meca_Cagnottage                       0.008084\n",
       "21              Pack_3 packs                       0.013261\n",
       "25                      Year                       0.016144\n",
       "12                   MG1_FHG                       0.022564\n",
       "5                  Ens_Geant                       0.025154\n",
       "11                   MG1_F8M                       0.032205\n",
       "4                   Ens_Cora                       0.032760\n",
       "9                    MG1_F0W                       0.034634\n",
       "3              Ens_Casino SM                       0.035061\n",
       "6               Ens_Monoprix                       0.037497\n",
       "27                     Plage                       0.042741\n",
       "7   Ens_SM Match  Prospectus                       0.055997\n",
       "26              Days_Uplifts                       0.058884\n",
       "0                 Ens_Auchan                       0.064034\n",
       "1              Ens_Carrefour                       0.064095\n",
       "2       Ens_Carrefour Market                       0.073667\n",
       "10                   MG1_F56                       0.077440\n",
       "8              Ens_Systeme U                       0.084406\n",
       "13                   MG1_VR3                       0.090987\n",
       "24                      Week                       0.126300"
      ]
     },
     "execution_count": 250,
     "metadata": {},
     "output_type": "execute_result"
    }
   ],
   "source": [
    "df_var_importance=pd.DataFrame({'name_variable':new_df.drop('Sell_Out',axis=1).columns,'score (the higher the better)':GBR_fitted.feature_importances_})\n",
    "df_var_importance.sort_values(by=['score (the higher the better)'])"
   ]
  },
  {
   "cell_type": "code",
   "execution_count": 240,
   "metadata": {
    "collapsed": true
   },
   "outputs": [],
   "source": [
    "import xgboost"
   ]
  },
  {
   "cell_type": "code",
   "execution_count": 241,
   "metadata": {},
   "outputs": [],
   "source": [
    "xgb = xgboost.XGBRegressor(n_estimators=100, learning_rate=0.08, gamma=0, subsample=0.75,\n",
    "                           colsample_bytree=1, max_depth=7)"
   ]
  },
  {
   "cell_type": "code",
   "execution_count": 243,
   "metadata": {},
   "outputs": [],
   "source": [
    "xgb_fitted=xgb.fit(new_df_train,Y_train)"
   ]
  },
  {
   "cell_type": "code",
   "execution_count": 246,
   "metadata": {},
   "outputs": [
    {
     "name": "stdout",
     "output_type": "stream",
     "text": [
      "---------On test set---------\n",
      "RMSE = 115259.57414401288\n",
      "MAPE = 33.82841186749228\n",
      "MAE= 50378.63901668594\n",
      "MSE= 13284769431.85922\n",
      "R2= 0.7913399283542332\n"
     ]
    },
    {
     "data": {
      "image/png": "[encoded data removed]",
      "text/plain": [
       "<matplotlib.figure.Figure at 0x121fd5a20>"
      ]
     },
     "metadata": {},
     "output_type": "display_data"
    }
   ],
   "source": [
    "y_pred=xgb_fitted.predict(new_df_test)\n",
    "print('---------On test set---------')\n",
    "print('RMSE = {}'.format(rmse(y_pred,Y_test)))\n",
    "print('MAPE = {}'.format(mean_absolute_percentage_error(Y_test, y_pred)))\n",
    "print('MAE= {}'.format(metrics.mean_absolute_error(Y_test, y_pred)))\n",
    "print('MSE= {}'.format(metrics.mean_squared_error(Y_test, y_pred)))\n",
    "print('R2= {}'.format(metrics.r2_score(Y_test, y_pred)))\n",
    "\n",
    "pyplot.plot(np.array(Y_test))\n",
    "pyplot.plot(y_pred, color='red')\n",
    "pyplot.title('Estimation on TEST set for random XGBoost model')\n",
    "pyplot.show()"
   ]
  },
  {
   "cell_type": "code",
   "execution_count": 248,
   "metadata": {},
   "outputs": [
    {
     "name": "stdout",
     "output_type": "stream",
     "text": [
      "---------On train set---------\n",
      "RMSE = 67893.63750006132\n",
      "MAPE = 25.90654266830981\n",
      "MAE= 31675.86180229574\n",
      "MSE= 4609546012.989739\n",
      "R2= 0.9136058343030806\n"
     ]
    },
    {
     "data": {
      "image/png": "[encoded data removed]",
      "text/plain": [
       "<matplotlib.figure.Figure at 0x12221d7f0>"
      ]
     },
     "metadata": {},
     "output_type": "display_data"
    }
   ],
   "source": [
    "y_pred=xgb_fitted.predict(new_df_train)\n",
    "print('---------On train set---------')\n",
    "print('RMSE = {}'.format(rmse(y_pred,Y_train)))\n",
    "print('MAPE = {}'.format(mean_absolute_percentage_error(Y_train, y_pred)))\n",
    "print('MAE= {}'.format(metrics.mean_absolute_error(Y_train, y_pred)))\n",
    "print('MSE= {}'.format(metrics.mean_squared_error(Y_train, y_pred)))\n",
    "print('R2= {}'.format(metrics.r2_score(Y_train, y_pred)))\n",
    "\n",
    "pyplot.plot(np.array(Y_train))\n",
    "pyplot.plot(y_pred, color='red')\n",
    "pyplot.title('Estimation on TRAIN set for random Gradient Boosting model')\n",
    "pyplot.show()"
   ]
  },
  {
   "cell_type": "code",
   "execution_count": 249,
   "metadata": {},
   "outputs": [
    {
     "data": {
      "text/html": [
       "<div>\n",
       "<style>\n",
       "    .dataframe thead tr:only-child th {\n",
       "        text-align: right;\n",
       "    }\n",
       "\n",
       "    .dataframe thead th {\n",
       "        text-align: left;\n",
       "    }\n",
       "\n",
       "    .dataframe tbody tr th {\n",
       "        vertical-align: top;\n",
       "    }\n",
       "</style>\n",
       "<table border=\"1\" class=\"dataframe\">\n",
       "  <thead>\n",
       "    <tr style=\"text-align: right;\">\n",
       "      <th></th>\n",
       "      <th>name_variable</th>\n",
       "      <th>score (the higher the better)</th>\n",
       "    </tr>\n",
       "  </thead>\n",
       "  <tbody>\n",
       "    <tr>\n",
       "      <th>23</th>\n",
       "      <td>Pack_nan</td>\n",
       "      <td>0.000000</td>\n",
       "    </tr>\n",
       "    <tr>\n",
       "      <th>18</th>\n",
       "      <td>Meca_nan</td>\n",
       "      <td>0.001355</td>\n",
       "    </tr>\n",
       "    <tr>\n",
       "      <th>21</th>\n",
       "      <td>Pack_3 packs</td>\n",
       "      <td>0.003614</td>\n",
       "    </tr>\n",
       "    <tr>\n",
       "      <th>22</th>\n",
       "      <td>Pack_autre</td>\n",
       "      <td>0.004856</td>\n",
       "    </tr>\n",
       "    <tr>\n",
       "      <th>16</th>\n",
       "      <td>Meca_Multiple</td>\n",
       "      <td>0.006550</td>\n",
       "    </tr>\n",
       "    <tr>\n",
       "      <th>3</th>\n",
       "      <td>Ens_Casino SM</td>\n",
       "      <td>0.008357</td>\n",
       "    </tr>\n",
       "    <tr>\n",
       "      <th>6</th>\n",
       "      <td>Ens_Monoprix</td>\n",
       "      <td>0.008583</td>\n",
       "    </tr>\n",
       "    <tr>\n",
       "      <th>17</th>\n",
       "      <td>Meca_RI</td>\n",
       "      <td>0.008809</td>\n",
       "    </tr>\n",
       "    <tr>\n",
       "      <th>20</th>\n",
       "      <td>Pack_2 packs</td>\n",
       "      <td>0.008922</td>\n",
       "    </tr>\n",
       "    <tr>\n",
       "      <th>7</th>\n",
       "      <td>Ens_SM Match  Prospectus</td>\n",
       "      <td>0.009373</td>\n",
       "    </tr>\n",
       "    <tr>\n",
       "      <th>5</th>\n",
       "      <td>Ens_Geant</td>\n",
       "      <td>0.010841</td>\n",
       "    </tr>\n",
       "    <tr>\n",
       "      <th>4</th>\n",
       "      <td>Ens_Cora</td>\n",
       "      <td>0.014342</td>\n",
       "    </tr>\n",
       "    <tr>\n",
       "      <th>8</th>\n",
       "      <td>Ens_Systeme U</td>\n",
       "      <td>0.017956</td>\n",
       "    </tr>\n",
       "    <tr>\n",
       "      <th>14</th>\n",
       "      <td>Meca_Cagnottage</td>\n",
       "      <td>0.018859</td>\n",
       "    </tr>\n",
       "    <tr>\n",
       "      <th>2</th>\n",
       "      <td>Ens_Carrefour Market</td>\n",
       "      <td>0.019424</td>\n",
       "    </tr>\n",
       "    <tr>\n",
       "      <th>19</th>\n",
       "      <td>Pack_1 pack</td>\n",
       "      <td>0.019989</td>\n",
       "    </tr>\n",
       "    <tr>\n",
       "      <th>11</th>\n",
       "      <td>MG1_F8M</td>\n",
       "      <td>0.021231</td>\n",
       "    </tr>\n",
       "    <tr>\n",
       "      <th>15</th>\n",
       "      <td>Meca_Lots Virtuels</td>\n",
       "      <td>0.024167</td>\n",
       "    </tr>\n",
       "    <tr>\n",
       "      <th>12</th>\n",
       "      <td>MG1_FHG</td>\n",
       "      <td>0.029249</td>\n",
       "    </tr>\n",
       "    <tr>\n",
       "      <th>0</th>\n",
       "      <td>Ens_Auchan</td>\n",
       "      <td>0.029362</td>\n",
       "    </tr>\n",
       "    <tr>\n",
       "      <th>13</th>\n",
       "      <td>MG1_VR3</td>\n",
       "      <td>0.029475</td>\n",
       "    </tr>\n",
       "    <tr>\n",
       "      <th>1</th>\n",
       "      <td>Ens_Carrefour</td>\n",
       "      <td>0.031395</td>\n",
       "    </tr>\n",
       "    <tr>\n",
       "      <th>10</th>\n",
       "      <td>MG1_F56</td>\n",
       "      <td>0.034105</td>\n",
       "    </tr>\n",
       "    <tr>\n",
       "      <th>9</th>\n",
       "      <td>MG1_F0W</td>\n",
       "      <td>0.048334</td>\n",
       "    </tr>\n",
       "    <tr>\n",
       "      <th>27</th>\n",
       "      <td>Plage</td>\n",
       "      <td>0.048673</td>\n",
       "    </tr>\n",
       "    <tr>\n",
       "      <th>25</th>\n",
       "      <td>Year</td>\n",
       "      <td>0.080068</td>\n",
       "    </tr>\n",
       "    <tr>\n",
       "      <th>26</th>\n",
       "      <td>Days_Uplifts</td>\n",
       "      <td>0.120271</td>\n",
       "    </tr>\n",
       "    <tr>\n",
       "      <th>24</th>\n",
       "      <td>Week</td>\n",
       "      <td>0.341841</td>\n",
       "    </tr>\n",
       "  </tbody>\n",
       "</table>\n",
       "</div>"
      ],
      "text/plain": [
       "               name_variable  score (the higher the better)\n",
       "23                  Pack_nan                       0.000000\n",
       "18                  Meca_nan                       0.001355\n",
       "21              Pack_3 packs                       0.003614\n",
       "22                Pack_autre                       0.004856\n",
       "16             Meca_Multiple                       0.006550\n",
       "3              Ens_Casino SM                       0.008357\n",
       "6               Ens_Monoprix                       0.008583\n",
       "17                   Meca_RI                       0.008809\n",
       "20              Pack_2 packs                       0.008922\n",
       "7   Ens_SM Match  Prospectus                       0.009373\n",
       "5                  Ens_Geant                       0.010841\n",
       "4                   Ens_Cora                       0.014342\n",
       "8              Ens_Systeme U                       0.017956\n",
       "14           Meca_Cagnottage                       0.018859\n",
       "2       Ens_Carrefour Market                       0.019424\n",
       "19               Pack_1 pack                       0.019989\n",
       "11                   MG1_F8M                       0.021231\n",
       "15        Meca_Lots Virtuels                       0.024167\n",
       "12                   MG1_FHG                       0.029249\n",
       "0                 Ens_Auchan                       0.029362\n",
       "13                   MG1_VR3                       0.029475\n",
       "1              Ens_Carrefour                       0.031395\n",
       "10                   MG1_F56                       0.034105\n",
       "9                    MG1_F0W                       0.048334\n",
       "27                     Plage                       0.048673\n",
       "25                      Year                       0.080068\n",
       "26              Days_Uplifts                       0.120271\n",
       "24                      Week                       0.341841"
      ]
     },
     "execution_count": 249,
     "metadata": {},
     "output_type": "execute_result"
    }
   ],
   "source": [
    "df_var_importance=pd.DataFrame({'name_variable':new_df.drop('Sell_Out',axis=1).columns,'score (the higher the better)':xgb_fitted.feature_importances_})\n",
    "df_var_importance.sort_values(by=['score (the higher the better)'])"
   ]
  },
  {
   "cell_type": "markdown",
   "metadata": {},
   "source": [
    "# Conslusion :"
   ]
  },
  {
   "cell_type": "markdown",
   "metadata": {},
   "source": [
    " A first conclusion can be made about the non effectiveness of the MAPE metric to estimate the accuracy of the model and can be seen thanks to the graph of test prediction of sells."
   ]
  },
  {
   "cell_type": "code",
   "execution_count": null,
   "metadata": {
    "collapsed": true
   },
   "outputs": [],
   "source": []
  }
 ],
 "metadata": {
  "kernelspec": {
   "display_name": "Python 3",
   "language": "python",
   "name": "python3"
  },
  "language_info": {
   "codemirror_mode": {
    "name": "ipython",
    "version": 3
   },
   "file_extension": ".py",
   "mimetype": "text/x-python",
   "name": "python",
   "nbconvert_exporter": "python",
   "pygments_lexer": "ipython3",
   "version": "3.6.4"
  }
 },
 "nbformat": 4,
 "nbformat_minor": 2
}
